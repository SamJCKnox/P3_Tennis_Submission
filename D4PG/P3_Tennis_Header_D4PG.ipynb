{
 "cells": [
  {
   "cell_type": "markdown",
   "metadata": {},
   "source": [
    "# D4PG Header File "
   ]
  },
  {
   "cell_type": "code",
   "execution_count": 1,
   "metadata": {},
   "outputs": [],
   "source": [
    "import torch\n",
    "import numpy as np\n",
    "import matplotlib.pyplot as plt\n",
    "%matplotlib inline\n",
    "import importlib\n",
    "import runnerD4PG\n",
    "\n",
    "from unityagents import UnityEnvironment\n",
    "import numpy as np"
   ]
  },
  {
   "cell_type": "code",
   "execution_count": null,
   "metadata": {},
   "outputs": [],
   "source": [
    "env = UnityEnvironment(file_name=\"Tennis_Windows_x86_64\\\\Tennis.exe\")"
   ]
  },
  {
   "cell_type": "code",
   "execution_count": 3,
   "metadata": {},
   "outputs": [],
   "source": [
    "# get the default brain\n",
    "brain_name = env.brain_names[0]\n",
    "brain = env.brains[brain_name]\n",
    "env_info = env.reset(train_mode=True)[brain_name]"
   ]
  },
  {
   "cell_type": "code",
   "execution_count": 43,
   "metadata": {},
   "outputs": [],
   "source": [
    "arguments = {\n",
    "    'episodes': 10000,                           # number of episodes\n",
    "    'brain_name': brain_name,                   # the brain name of the unity environment\n",
    "    'achievement': 10.,                         # score at which the environment is considered beaten\n",
    "    'achievement_length': 300,                  # how long the agent needs to get a score above the achievement to solve the environment\n",
    "    'environment': env, \n",
    "    'state_size': 24,\n",
    "    'action_size': 2,\n",
    "    'random_seed': 9,\n",
    "    'fc1_units': 128,\n",
    "    'fc2_units': 56,\n",
    "    'update_type': 'soft',\n",
    "    'tau': 1e-3,\n",
    "    'gamma': 0.9,\n",
    "    'buffer_size': int(3e6),\n",
    "    'batch_size': 1024,\n",
    "    'batches_per_update': 1,\n",
    "    'lr_actor': 1e-3,\n",
    "    'lr_critic': 1e-3,\n",
    "    'weight_decay': 0,\n",
    "    'alpha': 0.9,\n",
    "    'beta':0.9\n",
    "\n",
    "    }"
   ]
  },
  {
   "cell_type": "code",
   "execution_count": null,
   "metadata": {},
   "outputs": [
    {
     "name": "stdout",
     "output_type": "stream",
     "text": [
      "DDPGActor(\n",
      "  (net): Sequential(\n",
      "    (0): Linear(in_features=24, out_features=400, bias=True)\n",
      "    (1): ReLU()\n",
      "    (2): Linear(in_features=400, out_features=300, bias=True)\n",
      "    (3): ReLU()\n",
      "    (4): Linear(in_features=300, out_features=2, bias=True)\n",
      "    (5): Tanh()\n",
      "  )\n",
      ")\n",
      "D4PGCritic(\n",
      "  (obs_net): Sequential(\n",
      "    (0): Linear(in_features=24, out_features=400, bias=True)\n",
      "    (1): ReLU()\n",
      "  )\n",
      "  (out_net): Sequential(\n",
      "    (0): Linear(in_features=402, out_features=300, bias=True)\n",
      "    (1): ReLU()\n",
      "    (2): Linear(in_features=300, out_features=51, bias=True)\n",
      "  )\n",
      ")\n",
      "> c:\\users\\mbgpcsk4\\dropbox (the university of manchester)\\d2019\\university\\udacity\\p3_tennis_submission\\d4pg\\runnerd4pg.py(162)runnerD4PG()\n",
      "-> batch = buffer.sample(BATCH_SIZE, beta=beta)\n",
      "(Pdb) s\n",
      "--Call--\n",
      "> c:\\users\\mbgpcsk4\\dropbox (the university of manchester)\\d2019\\university\\udacity\\p3_tennis_submission\\d4pg\\experience.py(82)sample()\n",
      "-> def sample(self, batch_size, beta):\n",
      "(Pdb) self.buffer[1]\n",
      "Experience(state=array([ 0.        ,  0.        ,  0.        ,  0.        ,  0.        ,\n",
      "        0.        ,  0.        ,  0.        ,  0.        ,  0.        ,\n",
      "        0.        ,  0.        ,  0.        ,  0.        ,  0.        ,\n",
      "        0.        , -6.313591  , -1.5       ,  0.        ,  0.        ,\n",
      "        7.65922308,  5.69392824,  0.        ,  0.        ]), action=array([-0.3823694 , -0.22481444], dtype=float32), reward=0.0, done=False, next_state=array([  0.        ,   0.        ,   0.        ,   0.        ,\n",
      "         0.        ,   0.        ,   0.        ,   0.        ,\n",
      "        -6.313591  ,  -1.5       ,   0.        ,   0.        ,\n",
      "         7.65922308,   5.69392824,   0.        ,   0.        ,\n",
      "        -7.46069908,  -1.55886006, -11.47108173,  -0.98100001,\n",
      "         7.65922308,   5.39962816, -11.47108173,  -0.98100001]))\n",
      "(Pdb) self.buffer[0]\n",
      "Experience(state=array([ 0.        ,  0.        ,  0.        ,  0.        ,  0.        ,\n",
      "        0.        ,  0.        ,  0.        ,  0.        ,  0.        ,\n",
      "        0.        ,  0.        ,  0.        ,  0.        ,  0.        ,\n",
      "        0.        , -7.25686836, -1.5       , -0.        ,  0.        ,\n",
      "       -7.65922308,  5.69392824, -0.        ,  0.        ]), action=array([-0.27379206,  0.06921919], dtype=float32), reward=0.0, done=False, next_state=array([ 0.        ,  0.        ,  0.        ,  0.        ,  0.        ,\n",
      "        0.        ,  0.        ,  0.        , -7.25686836, -1.5       ,\n",
      "       -0.        ,  0.        , -7.65922308,  5.69392824, -0.        ,\n",
      "        0.        , -8.07824516, -1.55886006, -8.21376133, -0.98100001,\n",
      "       -7.65922308,  5.39962816, -8.21376133, -0.98100001]))\n"
     ]
    }
   ],
   "source": [
    "import runnerD4PG\n",
    "importlib.reload(runnerD4PG)\n",
    "\n",
    "scores = runnerD4PG.runnerD4PG(arguments)\n",
    "\n",
    "fig = plt.figure()\n",
    "ax = fig.add_subplot(111)\n",
    "plt.plot(np.arange(1, len(scores)+1), scores)\n",
    "plt.ylabel('Score')\n",
    "plt.xlabel('Episode #')\n",
    "plt.show()"
   ]
  },
  {
   "cell_type": "code",
   "execution_count": 8,
   "metadata": {},
   "outputs": [
    {
     "name": "stdout",
     "output_type": "stream",
     "text": [
      "1.145000017248094\n"
     ]
    }
   ],
   "source": [
    "\n",
    "\n",
    "from ddpg_agent import Agent\n",
    "\n",
    "agent = Agent(arguments['agent_args'])\n",
    "\n",
    "agent.actor_local.load_state_dict(torch.load('checkpoint_actor.pth'))\n",
    "agent.critic_local.load_state_dict(torch.load('checkpoint_critic.pth'))\n",
    "\n",
    "env_info = env.reset(train_mode=False)[brain_name]\n",
    "states = env_info.vector_observations\n",
    "reward = 0\n",
    "while True:\n",
    "    actions = agent.act(states, add_noise =False)\n",
    "    env_info = env.step(actions)[brain_name]\n",
    "    states = env_info.vector_observations\n",
    "    dones = env_info.local_done\n",
    "    reward += np.mean(env_info.rewards)\n",
    "    if np.any(dones):\n",
    "        break\n",
    "        \n",
    "print(reward)"
   ]
  },
  {
   "cell_type": "code",
   "execution_count": 4,
   "metadata": {},
   "outputs": [
    {
     "ename": "NameError",
     "evalue": "name 'env' is not defined",
     "output_type": "error",
     "traceback": [
      "\u001b[1;31m---------------------------------------------------------------------------\u001b[0m",
      "\u001b[1;31mNameError\u001b[0m                                 Traceback (most recent call last)",
      "\u001b[1;32m<ipython-input-4-1baceacf4cb1>\u001b[0m in \u001b[0;36m<module>\u001b[1;34m\u001b[0m\n\u001b[1;32m----> 1\u001b[1;33m \u001b[0menv\u001b[0m\u001b[1;33m.\u001b[0m\u001b[0mclose\u001b[0m\u001b[1;33m(\u001b[0m\u001b[1;33m)\u001b[0m\u001b[1;33m\u001b[0m\u001b[0m\n\u001b[0m",
      "\u001b[1;31mNameError\u001b[0m: name 'env' is not defined"
     ]
    }
   ],
   "source": [
    "env.close()"
   ]
  },
  {
   "cell_type": "code",
   "execution_count": null,
   "metadata": {},
   "outputs": [],
   "source": []
  }
 ],
 "metadata": {
  "kernelspec": {
   "display_name": "Python 3",
   "language": "python",
   "name": "python3"
  },
  "language_info": {
   "codemirror_mode": {
    "name": "ipython",
    "version": 3
   },
   "file_extension": ".py",
   "mimetype": "text/x-python",
   "name": "python",
   "nbconvert_exporter": "python",
   "pygments_lexer": "ipython3",
   "version": "3.6.3"
  }
 },
 "nbformat": 4,
 "nbformat_minor": 2
}
