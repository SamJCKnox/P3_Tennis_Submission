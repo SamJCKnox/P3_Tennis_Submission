{
 "cells": [
  {
   "cell_type": "code",
   "execution_count": 1,
   "metadata": {},
   "outputs": [],
   "source": [
    "import torch\n",
    "import numpy as np\n",
    "import matplotlib.pyplot as plt\n",
    "%matplotlib inline\n",
    "import importlib\n",
    "import runner\n",
    "\n",
    "from unityagents import UnityEnvironment\n",
    "import numpy as np"
   ]
  },
  {
   "cell_type": "code",
   "execution_count": 5,
   "metadata": {},
   "outputs": [
    {
     "name": "stderr",
     "output_type": "stream",
     "text": [
      "INFO:unityagents:\n",
      "'Academy' started successfully!\n",
      "Unity Academy name: Academy\n",
      "        Number of Brains: 1\n",
      "        Number of External Brains : 1\n",
      "        Lesson number : 0\n",
      "        Reset Parameters :\n",
      "\t\t\n",
      "Unity brain name: TennisBrain\n",
      "        Number of Visual Observations (per agent): 0\n",
      "        Vector Observation space type: continuous\n",
      "        Vector Observation space size (per agent): 8\n",
      "        Number of stacked Vector Observation: 3\n",
      "        Vector Action space type: continuous\n",
      "        Vector Action space size (per agent): 2\n",
      "        Vector Action descriptions: , \n"
     ]
    }
   ],
   "source": [
    "env = UnityEnvironment(file_name=\"Tennis_Windows_x86_64\\\\Tennis.exe\", no_graphics = True)"
   ]
  },
  {
   "cell_type": "code",
   "execution_count": 6,
   "metadata": {},
   "outputs": [],
   "source": [
    "# get the default brain\n",
    "brain_name = env.brain_names[0]\n",
    "brain = env.brains[brain_name]\n",
    "env_info = env.reset(train_mode=True)[brain_name]"
   ]
  },
  {
   "cell_type": "code",
   "execution_count": 7,
   "metadata": {},
   "outputs": [],
   "source": [
    "arguments = {\n",
    "    'episodes': 10000,                           # number of episodes\n",
    "    'brain_name': brain_name,                   # the brain name of the unity environment\n",
    "    'achievement': 2.,                         # score at which the environment is considered beaten\n",
    "    'achievement_length': 100,                  # how long the agent needs to get a score above the achievement to solve the environment\n",
    "    'environment': env, \n",
    "    'agent_args': {\n",
    "        'state_size': 24,\n",
    "        'action_size': 2,\n",
    "        'random_seed': 9,\n",
    "        'fc1_units': 128,\n",
    "        'fc2_units': 56,\n",
    "        'update_type': 'soft',\n",
    "        'tau': 1e-3,\n",
    "        'gamma': 0.9,\n",
    "        'buffer_size': int(3e6),\n",
    "        'batch_size': 1024,\n",
    "        'batches_per_update': 1,\n",
    "        'lr_actor': 1e-3,\n",
    "        'lr_critic': 1e-3,\n",
    "        'weight_decay': 0\n",
    "        \n",
    "        }\n",
    "    }"
   ]
  },
  {
   "cell_type": "code",
   "execution_count": null,
   "metadata": {},
   "outputs": [
    {
     "name": "stdout",
     "output_type": "stream",
     "text": [
      "Episode 100\tAverage Score: 0.00\n",
      "Episode 200\tAverage Score: 0.02\n",
      "Episode 300\tAverage Score: -0.00\n",
      "Episode 400\tAverage Score: -0.00\n",
      "Episode 500\tAverage Score: -0.00\n",
      "Episode 600\tAverage Score: -0.00\n",
      "Episode 700\tAverage Score: -0.00\n",
      "Episode 800\tAverage Score: -0.00\n",
      "Episode 900\tAverage Score: -0.00\n",
      "Episode 1000\tAverage Score: -0.00\n",
      "Episode 1100\tAverage Score: -0.00\n",
      "Episode 1200\tAverage Score: 0.000\n",
      "Episode 1300\tAverage Score: 0.06\n",
      "Episode 1400\tAverage Score: 0.10\n",
      "Episode 1500\tAverage Score: 0.11\n",
      "Episode 1600\tAverage Score: 0.13\n",
      "Episode 1700\tAverage Score: 0.10\n",
      "Episode 1800\tAverage Score: 0.28\n",
      "Episode 1900\tAverage Score: 0.16\n",
      "Episode 2000\tAverage Score: 0.29\n",
      "Episode 2100\tAverage Score: 0.36\n",
      "Episode 2200\tAverage Score: 0.36\n",
      "Episode 2300\tAverage Score: 0.28\n",
      "Episode 2400\tAverage Score: 0.71\n",
      "Episode 2500\tAverage Score: 0.87\n",
      "Episode 2600\tAverage Score: 0.59\n",
      "Episode 2700\tAverage Score: 0.24\n",
      "Episode 2800\tAverage Score: 0.33\n",
      "Episode 2900\tAverage Score: 0.34\n",
      "Episode 3000\tAverage Score: 0.23\n",
      "Episode 3100\tAverage Score: 0.45\n",
      "Episode 3200\tAverage Score: 0.40\n",
      "Episode 3297\tAverage Score: 0.38"
     ]
    }
   ],
   "source": [
    "importlib.reload(runner)\n",
    "\n",
    "scores = runner.ddpg_runner(arguments)\n",
    "\n",
    "fig = plt.figure()\n",
    "ax = fig.add_subplot(111)\n",
    "plt.plot(np.arange(1, len(scores)+1), scores)\n",
    "plt.ylabel('Score')\n",
    "plt.xlabel('Episode #')\n",
    "plt.show()"
   ]
  },
  {
   "cell_type": "code",
   "execution_count": 8,
   "metadata": {},
   "outputs": [
    {
     "name": "stdout",
     "output_type": "stream",
     "text": [
      "1.7450000261887908\n"
     ]
    }
   ],
   "source": [
    "from ddpg_agent import Agent\n",
    "\n",
    "agent = Agent(arguments['agent_args'])\n",
    "\n",
    "agent.actor_local.load_state_dict(torch.load('checkpoint_actor.pth'))\n",
    "agent.critic_local.load_state_dict(torch.load('checkpoint_critic.pth'))\n",
    "\n",
    "env_info = env.reset(train_mode=False)[brain_name]\n",
    "states = env_info.vector_observations\n",
    "reward = 0\n",
    "while True:\n",
    "    actions = agent.act(states, add_noise =False)\n",
    "    env_info = env.step(actions)[brain_name]\n",
    "    states = env_info.vector_observations\n",
    "    dones = env_info.local_done\n",
    "    reward += np.mean(env_info.rewards)\n",
    "    if np.any(dones):\n",
    "        break\n",
    "        \n",
    "print(reward)"
   ]
  },
  {
   "cell_type": "code",
   "execution_count": 4,
   "metadata": {},
   "outputs": [],
   "source": [
    "env.close()"
   ]
  },
  {
   "cell_type": "code",
   "execution_count": null,
   "metadata": {},
   "outputs": [],
   "source": []
  }
 ],
 "metadata": {
  "kernelspec": {
   "display_name": "Python 3",
   "language": "python",
   "name": "python3"
  },
  "language_info": {
   "codemirror_mode": {
    "name": "ipython",
    "version": 3
   },
   "file_extension": ".py",
   "mimetype": "text/x-python",
   "name": "python",
   "nbconvert_exporter": "python",
   "pygments_lexer": "ipython3",
   "version": "3.6.3"
  }
 },
 "nbformat": 4,
 "nbformat_minor": 2
}
